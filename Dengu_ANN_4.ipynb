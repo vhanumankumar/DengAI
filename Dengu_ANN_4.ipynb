{
 "cells": [
  {
   "cell_type": "code",
   "execution_count": 1,
   "metadata": {},
   "outputs": [],
   "source": [
    "import pandas as pd"
   ]
  },
  {
   "cell_type": "code",
   "execution_count": 2,
   "metadata": {},
   "outputs": [],
   "source": [
    "data_x=pd.read_csv('X_train.csv')\n",
    "data_y=pd.read_csv('y_train.csv')"
   ]
  },
  {
   "cell_type": "code",
   "execution_count": 3,
   "metadata": {},
   "outputs": [
    {
     "name": "stdout",
     "output_type": "stream",
     "text": [
      "<class 'pandas.core.frame.DataFrame'>\n",
      "RangeIndex: 1456 entries, 0 to 1455\n",
      "Data columns (total 4 columns):\n",
      "city           1456 non-null object\n",
      "year           1456 non-null int64\n",
      "weekofyear     1456 non-null int64\n",
      "total_cases    1456 non-null int64\n",
      "dtypes: int64(3), object(1)\n",
      "memory usage: 45.6+ KB\n"
     ]
    }
   ],
   "source": [
    "data_y.info()"
   ]
  },
  {
   "cell_type": "code",
   "execution_count": 4,
   "metadata": {},
   "outputs": [],
   "source": [
    "data=pd.merge(data_x,data_y,on=['city','year','weekofyear'])"
   ]
  },
  {
   "cell_type": "code",
   "execution_count": 5,
   "metadata": {},
   "outputs": [
    {
     "name": "stdout",
     "output_type": "stream",
     "text": [
      "<class 'pandas.core.frame.DataFrame'>\n",
      "Int64Index: 1456 entries, 0 to 1455\n",
      "Data columns (total 25 columns):\n",
      "city                                     1456 non-null object\n",
      "year                                     1456 non-null int64\n",
      "weekofyear                               1456 non-null int64\n",
      "week_start_date                          1456 non-null object\n",
      "ndvi_ne                                  1262 non-null float64\n",
      "ndvi_nw                                  1404 non-null float64\n",
      "ndvi_se                                  1434 non-null float64\n",
      "ndvi_sw                                  1434 non-null float64\n",
      "precipitation_amt_mm                     1443 non-null float64\n",
      "reanalysis_air_temp_k                    1446 non-null float64\n",
      "reanalysis_avg_temp_k                    1446 non-null float64\n",
      "reanalysis_dew_point_temp_k              1446 non-null float64\n",
      "reanalysis_max_air_temp_k                1446 non-null float64\n",
      "reanalysis_min_air_temp_k                1446 non-null float64\n",
      "reanalysis_precip_amt_kg_per_m2          1446 non-null float64\n",
      "reanalysis_relative_humidity_percent     1446 non-null float64\n",
      "reanalysis_sat_precip_amt_mm             1443 non-null float64\n",
      "reanalysis_specific_humidity_g_per_kg    1446 non-null float64\n",
      "reanalysis_tdtr_k                        1446 non-null float64\n",
      "station_avg_temp_c                       1413 non-null float64\n",
      "station_diur_temp_rng_c                  1413 non-null float64\n",
      "station_max_temp_c                       1436 non-null float64\n",
      "station_min_temp_c                       1442 non-null float64\n",
      "station_precip_mm                        1434 non-null float64\n",
      "total_cases                              1456 non-null int64\n",
      "dtypes: float64(20), int64(3), object(2)\n",
      "memory usage: 295.8+ KB\n"
     ]
    }
   ],
   "source": [
    "data.info()"
   ]
  },
  {
   "cell_type": "code",
   "execution_count": 6,
   "metadata": {},
   "outputs": [],
   "source": [
    "data=data.fillna(method='ffill')\n",
    "\n",
    "from sklearn.preprocessing import LabelEncoder\n",
    "enc=LabelEncoder()\n",
    "data.week_start_date=enc.fit_transform(data.week_start_date)\n",
    "data.city=enc.fit_transform(data.city)\n",
    "\n",
    "\n",
    "X=data.loc[:,['city','year','weekofyear','week_start_date','ndvi_ne','ndvi_nw','ndvi_se','ndvi_sw',\n",
    "           'reanalysis_air_temp_k','reanalysis_avg_temp_k','reanalysis_dew_point_temp_k','reanalysis_max_air_temp_k',\n",
    "           'reanalysis_min_air_temp_k','reanalysis_relative_humidity_percent','reanalysis_specific_humidity_g_per_kg',\n",
    "           'reanalysis_tdtr_k','station_avg_temp_c','station_diur_temp_rng_c','station_min_temp_c']]\n",
    "y=data.total_cases\n"
   ]
  },
  {
   "cell_type": "code",
   "execution_count": 7,
   "metadata": {},
   "outputs": [
    {
     "name": "stdout",
     "output_type": "stream",
     "text": [
      "<class 'pandas.core.frame.DataFrame'>\n",
      "Int64Index: 1456 entries, 0 to 1455\n",
      "Data columns (total 19 columns):\n",
      "city                                     1456 non-null int32\n",
      "year                                     1456 non-null int64\n",
      "weekofyear                               1456 non-null int64\n",
      "week_start_date                          1456 non-null int32\n",
      "ndvi_ne                                  1456 non-null float64\n",
      "ndvi_nw                                  1456 non-null float64\n",
      "ndvi_se                                  1456 non-null float64\n",
      "ndvi_sw                                  1456 non-null float64\n",
      "reanalysis_air_temp_k                    1456 non-null float64\n",
      "reanalysis_avg_temp_k                    1456 non-null float64\n",
      "reanalysis_dew_point_temp_k              1456 non-null float64\n",
      "reanalysis_max_air_temp_k                1456 non-null float64\n",
      "reanalysis_min_air_temp_k                1456 non-null float64\n",
      "reanalysis_relative_humidity_percent     1456 non-null float64\n",
      "reanalysis_specific_humidity_g_per_kg    1456 non-null float64\n",
      "reanalysis_tdtr_k                        1456 non-null float64\n",
      "station_avg_temp_c                       1456 non-null float64\n",
      "station_diur_temp_rng_c                  1456 non-null float64\n",
      "station_min_temp_c                       1456 non-null float64\n",
      "dtypes: float64(15), int32(2), int64(2)\n",
      "memory usage: 216.1 KB\n"
     ]
    }
   ],
   "source": [
    "X.info()"
   ]
  },
  {
   "cell_type": "code",
   "execution_count": 8,
   "metadata": {},
   "outputs": [],
   "source": [
    "X_train=X\n",
    "y_train=y"
   ]
  },
  {
   "cell_type": "code",
   "execution_count": 17,
   "metadata": {},
   "outputs": [
    {
     "data": {
      "text/plain": [
       "MLPClassifier(activation='relu', alpha=0.0001, batch_size='auto', beta_1=0.9,\n",
       "              beta_2=0.999, early_stopping=False, epsilon=1e-08,\n",
       "              hidden_layer_sizes=59, learning_rate='constant',\n",
       "              learning_rate_init=0.01, max_iter=200, momentum=0.9,\n",
       "              n_iter_no_change=10, nesterovs_momentum=True, power_t=0.5,\n",
       "              random_state=15, shuffle=True, solver='adam', tol=0.0001,\n",
       "              validation_fraction=0.1, verbose=False, warm_start=False)"
      ]
     },
     "execution_count": 17,
     "metadata": {},
     "output_type": "execute_result"
    }
   ],
   "source": [
    "from sklearn.neural_network import MLPClassifier\n",
    "model = MLPClassifier(max_iter=200,hidden_layer_sizes=59,learning_rate_init=0.01,random_state=15)\n",
    "model.fit(X_train, y_train)"
   ]
  },
  {
   "cell_type": "code",
   "execution_count": 18,
   "metadata": {},
   "outputs": [],
   "source": [
    "X_test=pd.read_csv('X_test.csv')\n",
    "\n",
    "X_test=X_test.loc[:,['city','year','weekofyear','week_start_date','ndvi_ne','ndvi_nw','ndvi_se','ndvi_sw',\n",
    "           'reanalysis_air_temp_k','reanalysis_avg_temp_k','reanalysis_dew_point_temp_k','reanalysis_max_air_temp_k',\n",
    "           'reanalysis_min_air_temp_k','reanalysis_relative_humidity_percent','reanalysis_specific_humidity_g_per_kg',\n",
    "           'reanalysis_tdtr_k','station_avg_temp_c','station_diur_temp_rng_c','station_min_temp_c']]"
   ]
  },
  {
   "cell_type": "code",
   "execution_count": 19,
   "metadata": {},
   "outputs": [
    {
     "data": {
      "text/plain": [
       "city                                      0\n",
       "year                                      0\n",
       "weekofyear                                0\n",
       "week_start_date                           0\n",
       "ndvi_ne                                  43\n",
       "ndvi_nw                                  11\n",
       "ndvi_se                                   1\n",
       "ndvi_sw                                   1\n",
       "reanalysis_air_temp_k                     2\n",
       "reanalysis_avg_temp_k                     2\n",
       "reanalysis_dew_point_temp_k               2\n",
       "reanalysis_max_air_temp_k                 2\n",
       "reanalysis_min_air_temp_k                 2\n",
       "reanalysis_relative_humidity_percent      2\n",
       "reanalysis_specific_humidity_g_per_kg     2\n",
       "reanalysis_tdtr_k                         2\n",
       "station_avg_temp_c                       12\n",
       "station_diur_temp_rng_c                  12\n",
       "station_min_temp_c                        9\n",
       "dtype: int64"
      ]
     },
     "execution_count": 19,
     "metadata": {},
     "output_type": "execute_result"
    }
   ],
   "source": [
    "X_test.isnull().sum()"
   ]
  },
  {
   "cell_type": "code",
   "execution_count": 20,
   "metadata": {},
   "outputs": [
    {
     "data": {
      "text/plain": [
       "city                                     0\n",
       "year                                     0\n",
       "weekofyear                               0\n",
       "week_start_date                          0\n",
       "ndvi_ne                                  0\n",
       "ndvi_nw                                  0\n",
       "ndvi_se                                  0\n",
       "ndvi_sw                                  0\n",
       "reanalysis_air_temp_k                    0\n",
       "reanalysis_avg_temp_k                    0\n",
       "reanalysis_dew_point_temp_k              0\n",
       "reanalysis_max_air_temp_k                0\n",
       "reanalysis_min_air_temp_k                0\n",
       "reanalysis_relative_humidity_percent     0\n",
       "reanalysis_specific_humidity_g_per_kg    0\n",
       "reanalysis_tdtr_k                        0\n",
       "station_avg_temp_c                       0\n",
       "station_diur_temp_rng_c                  0\n",
       "station_min_temp_c                       0\n",
       "dtype: int64"
      ]
     },
     "execution_count": 20,
     "metadata": {},
     "output_type": "execute_result"
    }
   ],
   "source": [
    "X_test=X_test.fillna(method='ffill')\n",
    "X_test.isnull().sum()"
   ]
  },
  {
   "cell_type": "code",
   "execution_count": 21,
   "metadata": {},
   "outputs": [],
   "source": [
    "from sklearn.preprocessing import LabelEncoder\n",
    "enc=LabelEncoder()\n",
    "X_test.week_start_date=enc.fit_transform(X_test.week_start_date)\n",
    "X_test.city=enc.fit_transform(X_test.city)"
   ]
  },
  {
   "cell_type": "code",
   "execution_count": 22,
   "metadata": {},
   "outputs": [],
   "source": [
    "y_predict=model.predict(X_test)"
   ]
  },
  {
   "cell_type": "code",
   "execution_count": 23,
   "metadata": {},
   "outputs": [
    {
     "data": {
      "text/plain": [
       "array([ 6, 17,  6,  6,  6, 17, 17, 17, 17, 17, 30, 30, 17, 17, 30, 30, 30,\n",
       "       30, 17, 17, 30, 30, 30, 30, 30, 30, 30, 30, 30, 30, 30, 30, 30, 30,\n",
       "       30,  6,  6,  6,  6,  6,  6,  6,  6,  6,  6,  6,  6,  6,  6,  6,  6,\n",
       "        6,  6,  6, 17, 17, 17, 17, 17, 17, 17, 17, 17, 17, 17, 17, 30, 17,\n",
       "       30, 30, 17, 30, 17, 30, 30, 30, 30, 30, 30, 30, 30, 30, 30, 30, 30,\n",
       "       30, 30, 30,  6,  6,  6,  6,  6,  6,  6,  6,  6,  6,  6,  6,  6,  6,\n",
       "        6,  6,  6,  6,  6, 17,  6, 17,  6, 17, 17, 17, 17, 17, 17, 17, 17,\n",
       "       17, 17, 17, 17, 17, 30, 17, 30, 30, 17, 17, 30, 30, 30, 30, 30, 30,\n",
       "       17, 30, 30, 30,  6,  6,  6,  6,  6,  6,  6,  6,  6,  6,  6,  6,  6,\n",
       "        6,  6,  6,  6,  6,  6,  6,  6, 17,  6,  6, 17, 17, 17, 17, 17, 17,\n",
       "       17, 17, 17, 17, 17, 17, 17, 17, 17, 17, 30, 17, 30, 30, 17, 30, 30,\n",
       "       30, 30, 30, 30, 30,  6,  6,  6,  6,  6,  6,  6,  6,  6,  6,  6,  6,\n",
       "        6,  6,  6,  6,  6,  6,  6,  6,  6,  6,  6,  6,  6,  6,  6, 17, 17,\n",
       "       17, 17, 17, 17, 17, 17, 17, 17, 17, 17, 17, 17, 17, 17, 17, 30, 30,\n",
       "       30, 30, 30, 30, 30,  6,  6,  6,  6,  6,  6,  6,  6,  6,  6,  6,  6,\n",
       "        6,  6,  6,  6,  6,  0,  0,  0,  0,  0,  0,  0,  0,  0,  0,  0,  0,\n",
       "        0,  0,  0,  0,  0,  0,  0,  0,  6,  6,  0,  6,  6,  6,  6,  0,  0,\n",
       "        0,  0,  0,  0,  0,  0,  0,  0,  0,  0,  0,  0,  0,  0,  0,  0,  0,\n",
       "        6,  0,  0,  0,  0,  6,  0,  0,  0,  0,  0,  0,  0,  0,  0,  0,  0,\n",
       "        0,  0,  0,  0,  0,  0,  0,  0,  0,  6,  6,  0,  6,  6,  6,  6,  0,\n",
       "        0,  0,  0,  0,  0,  0,  0,  0,  0,  0,  0,  0,  0,  0,  0,  0,  0,\n",
       "        0,  0,  0,  0,  0,  0,  0,  0,  0,  0,  0,  0,  0,  0,  0,  0,  0,\n",
       "        0,  0,  0,  0,  0,  0,  0,  0,  0,  0,  0,  6,  6,  0,  6,  6,  0,\n",
       "        0,  0,  0,  0,  0,  0,  0,  0,  0,  0,  0,  0,  0,  0,  0,  0,  0,\n",
       "        0,  0,  0,  0,  0,  0,  0,  0], dtype=int64)"
      ]
     },
     "execution_count": 23,
     "metadata": {},
     "output_type": "execute_result"
    }
   ],
   "source": [
    "y_predict"
   ]
  },
  {
   "cell_type": "code",
   "execution_count": 24,
   "metadata": {},
   "outputs": [],
   "source": [
    "ans=pd.read_csv('Submission_format.csv')"
   ]
  },
  {
   "cell_type": "code",
   "execution_count": 25,
   "metadata": {},
   "outputs": [
    {
     "data": {
      "text/html": [
       "<div>\n",
       "<style scoped>\n",
       "    .dataframe tbody tr th:only-of-type {\n",
       "        vertical-align: middle;\n",
       "    }\n",
       "\n",
       "    .dataframe tbody tr th {\n",
       "        vertical-align: top;\n",
       "    }\n",
       "\n",
       "    .dataframe thead th {\n",
       "        text-align: right;\n",
       "    }\n",
       "</style>\n",
       "<table border=\"1\" class=\"dataframe\">\n",
       "  <thead>\n",
       "    <tr style=\"text-align: right;\">\n",
       "      <th></th>\n",
       "      <th>city</th>\n",
       "      <th>year</th>\n",
       "      <th>weekofyear</th>\n",
       "      <th>total_cases</th>\n",
       "    </tr>\n",
       "  </thead>\n",
       "  <tbody>\n",
       "    <tr>\n",
       "      <th>0</th>\n",
       "      <td>sj</td>\n",
       "      <td>2008</td>\n",
       "      <td>18</td>\n",
       "      <td>0</td>\n",
       "    </tr>\n",
       "    <tr>\n",
       "      <th>1</th>\n",
       "      <td>sj</td>\n",
       "      <td>2008</td>\n",
       "      <td>19</td>\n",
       "      <td>0</td>\n",
       "    </tr>\n",
       "    <tr>\n",
       "      <th>2</th>\n",
       "      <td>sj</td>\n",
       "      <td>2008</td>\n",
       "      <td>20</td>\n",
       "      <td>0</td>\n",
       "    </tr>\n",
       "    <tr>\n",
       "      <th>3</th>\n",
       "      <td>sj</td>\n",
       "      <td>2008</td>\n",
       "      <td>21</td>\n",
       "      <td>0</td>\n",
       "    </tr>\n",
       "    <tr>\n",
       "      <th>4</th>\n",
       "      <td>sj</td>\n",
       "      <td>2008</td>\n",
       "      <td>22</td>\n",
       "      <td>0</td>\n",
       "    </tr>\n",
       "    <tr>\n",
       "      <th>5</th>\n",
       "      <td>sj</td>\n",
       "      <td>2008</td>\n",
       "      <td>23</td>\n",
       "      <td>0</td>\n",
       "    </tr>\n",
       "    <tr>\n",
       "      <th>6</th>\n",
       "      <td>sj</td>\n",
       "      <td>2008</td>\n",
       "      <td>24</td>\n",
       "      <td>0</td>\n",
       "    </tr>\n",
       "    <tr>\n",
       "      <th>7</th>\n",
       "      <td>sj</td>\n",
       "      <td>2008</td>\n",
       "      <td>25</td>\n",
       "      <td>0</td>\n",
       "    </tr>\n",
       "    <tr>\n",
       "      <th>8</th>\n",
       "      <td>sj</td>\n",
       "      <td>2008</td>\n",
       "      <td>26</td>\n",
       "      <td>0</td>\n",
       "    </tr>\n",
       "    <tr>\n",
       "      <th>9</th>\n",
       "      <td>sj</td>\n",
       "      <td>2008</td>\n",
       "      <td>27</td>\n",
       "      <td>0</td>\n",
       "    </tr>\n",
       "  </tbody>\n",
       "</table>\n",
       "</div>"
      ],
      "text/plain": [
       "  city  year  weekofyear  total_cases\n",
       "0   sj  2008          18            0\n",
       "1   sj  2008          19            0\n",
       "2   sj  2008          20            0\n",
       "3   sj  2008          21            0\n",
       "4   sj  2008          22            0\n",
       "5   sj  2008          23            0\n",
       "6   sj  2008          24            0\n",
       "7   sj  2008          25            0\n",
       "8   sj  2008          26            0\n",
       "9   sj  2008          27            0"
      ]
     },
     "execution_count": 25,
     "metadata": {},
     "output_type": "execute_result"
    }
   ],
   "source": [
    "ans.head(10)"
   ]
  },
  {
   "cell_type": "code",
   "execution_count": 26,
   "metadata": {},
   "outputs": [
    {
     "data": {
      "text/html": [
       "<div>\n",
       "<style scoped>\n",
       "    .dataframe tbody tr th:only-of-type {\n",
       "        vertical-align: middle;\n",
       "    }\n",
       "\n",
       "    .dataframe tbody tr th {\n",
       "        vertical-align: top;\n",
       "    }\n",
       "\n",
       "    .dataframe thead th {\n",
       "        text-align: right;\n",
       "    }\n",
       "</style>\n",
       "<table border=\"1\" class=\"dataframe\">\n",
       "  <thead>\n",
       "    <tr style=\"text-align: right;\">\n",
       "      <th></th>\n",
       "      <th>city</th>\n",
       "      <th>year</th>\n",
       "      <th>weekofyear</th>\n",
       "      <th>total_cases</th>\n",
       "    </tr>\n",
       "  </thead>\n",
       "  <tbody>\n",
       "    <tr>\n",
       "      <th>0</th>\n",
       "      <td>sj</td>\n",
       "      <td>2008</td>\n",
       "      <td>18</td>\n",
       "      <td>6</td>\n",
       "    </tr>\n",
       "    <tr>\n",
       "      <th>1</th>\n",
       "      <td>sj</td>\n",
       "      <td>2008</td>\n",
       "      <td>19</td>\n",
       "      <td>17</td>\n",
       "    </tr>\n",
       "    <tr>\n",
       "      <th>2</th>\n",
       "      <td>sj</td>\n",
       "      <td>2008</td>\n",
       "      <td>20</td>\n",
       "      <td>6</td>\n",
       "    </tr>\n",
       "    <tr>\n",
       "      <th>3</th>\n",
       "      <td>sj</td>\n",
       "      <td>2008</td>\n",
       "      <td>21</td>\n",
       "      <td>6</td>\n",
       "    </tr>\n",
       "    <tr>\n",
       "      <th>4</th>\n",
       "      <td>sj</td>\n",
       "      <td>2008</td>\n",
       "      <td>22</td>\n",
       "      <td>6</td>\n",
       "    </tr>\n",
       "    <tr>\n",
       "      <th>5</th>\n",
       "      <td>sj</td>\n",
       "      <td>2008</td>\n",
       "      <td>23</td>\n",
       "      <td>17</td>\n",
       "    </tr>\n",
       "    <tr>\n",
       "      <th>6</th>\n",
       "      <td>sj</td>\n",
       "      <td>2008</td>\n",
       "      <td>24</td>\n",
       "      <td>17</td>\n",
       "    </tr>\n",
       "    <tr>\n",
       "      <th>7</th>\n",
       "      <td>sj</td>\n",
       "      <td>2008</td>\n",
       "      <td>25</td>\n",
       "      <td>17</td>\n",
       "    </tr>\n",
       "    <tr>\n",
       "      <th>8</th>\n",
       "      <td>sj</td>\n",
       "      <td>2008</td>\n",
       "      <td>26</td>\n",
       "      <td>17</td>\n",
       "    </tr>\n",
       "    <tr>\n",
       "      <th>9</th>\n",
       "      <td>sj</td>\n",
       "      <td>2008</td>\n",
       "      <td>27</td>\n",
       "      <td>17</td>\n",
       "    </tr>\n",
       "  </tbody>\n",
       "</table>\n",
       "</div>"
      ],
      "text/plain": [
       "  city  year  weekofyear  total_cases\n",
       "0   sj  2008          18            6\n",
       "1   sj  2008          19           17\n",
       "2   sj  2008          20            6\n",
       "3   sj  2008          21            6\n",
       "4   sj  2008          22            6\n",
       "5   sj  2008          23           17\n",
       "6   sj  2008          24           17\n",
       "7   sj  2008          25           17\n",
       "8   sj  2008          26           17\n",
       "9   sj  2008          27           17"
      ]
     },
     "execution_count": 26,
     "metadata": {},
     "output_type": "execute_result"
    }
   ],
   "source": [
    "ans.total_cases=y_predict\n",
    "ans.head(10)"
   ]
  },
  {
   "cell_type": "code",
   "execution_count": 27,
   "metadata": {},
   "outputs": [],
   "source": [
    "ans.to_csv('submission_v4.csv',index=False)"
   ]
  },
  {
   "cell_type": "code",
   "execution_count": null,
   "metadata": {},
   "outputs": [],
   "source": []
  }
 ],
 "metadata": {
  "kernelspec": {
   "display_name": "Python 3",
   "language": "python",
   "name": "python3"
  },
  "language_info": {
   "codemirror_mode": {
    "name": "ipython",
    "version": 3
   },
   "file_extension": ".py",
   "mimetype": "text/x-python",
   "name": "python",
   "nbconvert_exporter": "python",
   "pygments_lexer": "ipython3",
   "version": "3.7.3"
  }
 },
 "nbformat": 4,
 "nbformat_minor": 2
}
